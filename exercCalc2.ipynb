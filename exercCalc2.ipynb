{
  "nbformat": 4,
  "nbformat_minor": 0,
  "metadata": {
    "colab": {
      "provenance": [],
      "authorship_tag": "ABX9TyP2Z17CYnZzbm6uCA1sA7oo",
      "include_colab_link": true
    },
    "kernelspec": {
      "name": "python3",
      "display_name": "Python 3"
    },
    "language_info": {
      "name": "python"
    }
  },
  "cells": [
    {
      "cell_type": "markdown",
      "metadata": {
        "id": "view-in-github",
        "colab_type": "text"
      },
      "source": [
        "<a href=\"https://colab.research.google.com/github/jsrgodoy/GoogleColab/blob/main/exercCalc2.ipynb\" target=\"_parent\"><img src=\"https://colab.research.google.com/assets/colab-badge.svg\" alt=\"Open In Colab\"/></a>"
      ]
    },
    {
      "cell_type": "markdown",
      "source": [
        "Faça uma função calculadora que os números e as operações serão feitas pelo usuário. O código deve ficar rodando infinitamente até que o usuário escolha a opção de sair. No início, o programa mostrará a seguinte lista de operações:\n",
        "\n",
        "1: Soma\n",
        "2: Subtração\n",
        "3: Multiplicação\n",
        "4: Divisão\n",
        "0: Sair\n",
        "\n",
        "Digite o número para a operação correspondente e caso o usuário introduza qualquer outro, o sistema deve mostrar a mensagem “Essa opção não existe” e voltar ao menu de opções.\n",
        "\n",
        "Após a seleção, o sistema deve pedir para o usuário inserir o primeiro e segundo valor, um de cada. Depois precisa executar a operação e mostrar o resultado na tela. Quando o usuário escolher a opção “Sair”, o sistema irá parar.\n",
        "\n",
        "É necessário que o sistema mostre as opções sempre que finalizar uma operação e mostrar o resultado."
      ],
      "metadata": {
        "id": "ycQyKxIE7h8E"
      }
    },
    {
      "cell_type": "code",
      "execution_count": null,
      "metadata": {
        "id": "1MPZ5NG15tJO"
      },
      "outputs": [],
      "source": [
        "def calculadora(num1,num2,oper):\n",
        "  sair = 0\n",
        "  while sair == 0:\n",
        "    if oper == 1:\n",
        "      print(\"Soma:\", num1 + num2)\n",
        "    elif oper == 2:\n",
        "      print(\"Subtração:\", num1 - num2)\n",
        "    elif oper == 3:\n",
        "      print(\"Multiplicação:\", num1 * num2)\n",
        "    elif oper == 4:\n",
        "      print(\"Divisão:\", num1 / num2)\n",
        "    elif oper == 0:\n",
        "      sair = 1\n",
        "    else:\n",
        "      print(\"Operação inválida!\")\n",
        "\n",
        "    if sair != 1:\n",
        "      oper = int(input(\"\\nDigite a operação desejada:\\n1. Soma\\n2. Subtração\\n3. Multiplicação\\n4. Divisão\\n0. Sair\\n\"))\n",
        "\n",
        "  return \"Calculadora encerrada\"\n",
        "\n",
        "sair = 0\n",
        "while sair == 0:\n",
        "  print(\"\\n*****CALCULADORA BÁSICA******\\n\")\n",
        "  num1 = int(input(\"Digite o primeiro número: \"))\n",
        "  num2 = int(input(\"Digite o segundo número: \"))\n",
        "  oper = int(input(\"\\nDigite a operação desejada:\\n1.Soma\\n2.Subtração\\n3.Multiplicação\\nSubtração\\n0.Sair\\n\"))\n",
        "\n",
        "  resultado = calculadora(num1,num2,oper)\n",
        "  print(resultado)\n",
        "  if sair != 1:\n",
        "    sair = int(input(\"\\nPara retornar digite 0 ou digite 1 para sair: \\n\"))\n"
      ]
    }
  ]
}