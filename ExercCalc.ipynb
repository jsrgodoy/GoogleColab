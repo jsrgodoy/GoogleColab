{
  "nbformat": 4,
  "nbformat_minor": 0,
  "metadata": {
    "colab": {
      "provenance": [],
      "authorship_tag": "ABX9TyOobJ26P9gUzwcHEBwIrxv0",
      "include_colab_link": true
    },
    "kernelspec": {
      "name": "python3",
      "display_name": "Python 3"
    },
    "language_info": {
      "name": "python"
    }
  },
  "cells": [
    {
      "cell_type": "markdown",
      "metadata": {
        "id": "view-in-github",
        "colab_type": "text"
      },
      "source": [
        "<a href=\"https://colab.research.google.com/github/jsrgodoy/GoogleColab/blob/main/ExercCalc.ipynb\" target=\"_parent\"><img src=\"https://colab.research.google.com/assets/colab-badge.svg\" alt=\"Open In Colab\"/></a>"
      ]
    },
    {
      "cell_type": "markdown",
      "source": [
        "Faça uma função calculadora de dois números com três parâmetros: os dois primeiros serão os números da operação e o terceiro será a entrada que definirá a operação a ser executada. Considera a seguinte definição:\n",
        "1. Soma\n",
        "2. Subtração\n",
        "3. Multiplicação\n",
        "4. Divisão\n",
        "\n",
        "Caso seja inserido um número de operação que não exista, o resultado deverá ser 0.\n"
      ],
      "metadata": {
        "id": "Lk9wjaIr5xTz"
      }
    },
    {
      "cell_type": "code",
      "execution_count": null,
      "metadata": {
        "id": "1MPZ5NG15tJO"
      },
      "outputs": [],
      "source": [
        "def calculadora(num1,num2):\n",
        "    soma = (\"Soma:\",num1+num2)\n",
        "    sub = (\"Subtração:\",num1-num2)\n",
        "    mult = (\"Multiplicação:\",num1*num2)\n",
        "    div = (\"Divisão:\",num1/num2)\n",
        "    escolha = int(input(\"\\nDigite a operação desejada:\\n1.Soma\\n2.Subtração\\n3.Multiplicação\\n4.Divisão\\n\"))\n",
        "    if (escolha == 1): return soma\n",
        "    elif(escolha == 2): return sub\n",
        "    elif(escolha == 3): return mult\n",
        "    elif(escolha == 4): return div\n",
        "    else : return \"Resultado ZERO\"\n",
        "\n",
        "print(\"*****CALCULADORA BÁSICA******\\n\")\n",
        "\n",
        "num1 = int(input(\"Digite o primeiro número: \"))\n",
        "num2 = int(input(\"Digite o segundo número: \"))\n",
        "\n",
        "resultado = calculadora(num1,num2)\n",
        "print(resultado)"
      ]
    }
  ]
}