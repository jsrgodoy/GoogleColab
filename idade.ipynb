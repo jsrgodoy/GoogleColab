{
  "nbformat": 4,
  "nbformat_minor": 0,
  "metadata": {
    "colab": {
      "provenance": [],
      "authorship_tag": "ABX9TyP6YaMHQOWfep8XJqqfyMLc",
      "include_colab_link": true
    },
    "kernelspec": {
      "name": "python3",
      "display_name": "Python 3"
    },
    "language_info": {
      "name": "python"
    }
  },
  "cells": [
    {
      "cell_type": "markdown",
      "metadata": {
        "id": "view-in-github",
        "colab_type": "text"
      },
      "source": [
        "<a href=\"https://colab.research.google.com/github/jsrgodoy/GoogleColab/blob/main/idade.ipynb\" target=\"_parent\"><img src=\"https://colab.research.google.com/assets/colab-badge.svg\" alt=\"Open In Colab\"/></a>"
      ]
    },
    {
      "cell_type": "markdown",
      "source": [
        "Desenvolva um programa que recebe do usuário nome completo e ano de nascimento que seja entre 1922 e 2021.\n",
        "A partir dessas informações, o sistema mostrará o nome do usuário e a idade que completou, ou completará, no ano atual (2022).\n",
        "\n",
        "Caso o usuário não digite um número ou apareça um inválido no campo do ano, o sistema informará o erro e continuará perguntando até que um valor correto seja preenchido.\n"
      ],
      "metadata": {
        "id": "K3xSAxWFVIYj"
      }
    },
    {
      "cell_type": "code",
      "execution_count": null,
      "metadata": {
        "id": "zPoJHRS-VHkk"
      },
      "outputs": [],
      "source": [
        "nome = input(\"Digite seu nome completo: \")\n",
        "ano = False\n",
        "while ano==False:\n",
        " try:\n",
        "  num2 = int(input(\"Digite seu ano de nascimento entre 1922 e 2021: \"))\n",
        "  if (num2 >=1922 and num2 <=2021):\n",
        "       ano = True\n",
        "       num1 = 2022\n",
        "       idade = (num1-num2)\n",
        "       print(\"\\nSeu nome é: \"+nome)\n",
        "       print(\"Sua idade em 2022 é ou será:\",idade)\n",
        "  else:\n",
        "    print(\"\\nAno inválido, por favor digite um ano válido entre 1922 e 2021\\n\")\n",
        " except:\n",
        "    print(\"\\nDados inválidos, por favor digite somente números!\\n\")"
      ]
    }
  ]
}